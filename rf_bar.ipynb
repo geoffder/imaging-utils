{
 "cells": [
  {
   "cell_type": "code",
   "execution_count": 1,
   "id": "ef1af4ed",
   "metadata": {},
   "outputs": [],
   "source": [
    "import os\n",
    "import re\n",
    "import shutil\n",
    "import sys\n",
    "from datetime import date\n",
    "from copy import deepcopy\n",
    "import json\n",
    "\n",
    "import numpy as np\n",
    "import matplotlib.pyplot as plt\n",
    "import matplotlib.ticker as plticker\n",
    "from matplotlib.patches import Rectangle\n",
    "\n",
    "# local imports\n",
    "from image_arrays import *\n",
    "from hdf_utils import pack_hdf, unpack_hdf\n",
    "from fitting import BiexpFitter\n",
    "from plot_utils import clean_axes"
   ]
  },
  {
   "cell_type": "markdown",
   "id": "981df3e6",
   "metadata": {},
   "source": [
    "### Activate interactive plotting\n",
    "By default, inline plots are static. Here we specify one of two options (comment out the undesired command) that will open plots with GUI controls for us.\n",
    "- **qt ->** figures opened in windows outside the notebook\n",
    "- **notebook ->** figures within notebook underneath generating cell."
   ]
  },
  {
   "cell_type": "code",
   "execution_count": 3,
   "id": "6bcb304c",
   "metadata": {},
   "outputs": [],
   "source": [
    "%matplotlib notebook"
   ]
  },
  {
   "cell_type": "code",
   "execution_count": 32,
   "id": "1e7b5859",
   "metadata": {},
   "outputs": [
    {
     "name": "stdout",
     "output_type": "stream",
     "text": [
      "Configuration\n",
      "-------------\n",
      "offsets: [-300, -275, -250, -225, -200, -175, -150, -125, -100, -75, -50, -25, 0, 25, 50, 75, 100, 125, 150, 175, 200, 225, 250, 275, 300]\n",
      "\n",
      "Data\n",
      "-------------\n",
      "angles: [  0 112 135 157  22  45  67  90] \n",
      "\n",
      "offsets: [-300 -275 -250 -225 -200 -175 -150 -125 -100  -75  -50  -25    0   25\n",
      "   50   75  100  125  150  175  200  225  250  275  300] \n",
      "\n",
      "traces shape (angles, offsets, pts): (8, 25, 84)\n"
     ]
    }
   ],
   "source": [
    "base_path = \"/mnt/Data/prerna_noise/\"\n",
    "data_path = os.path.join(base_path, \"2022_05_24_rf_bar/\")\n",
    "\n",
    "with open(os.path.join(data_path, \"conf.json\")) as c:\n",
    "    conf = json.load(c)\n",
    "    \n",
    "print(\"Configuration\")\n",
    "print(\"-------------\")\n",
    "for k, v in conf.items():\n",
    "   print(\"%s:\" % k, v) \n",
    "\n",
    "angles, traces, min_pts, max_pts = [], [], 1e10, 0\n",
    "for f in os.listdir(data_path):\n",
    "    if f.startswith(\"RF_bar_\"):\n",
    "        angles.append(int(f.lstrip(\"RF_bar_\").rstrip(\".csv\")))\n",
    "        traces.append(np.loadtxt(os.path.join(data_path, f), delimiter=\",\", skiprows=1).T)\n",
    "        pts = traces[-1].shape[1]\n",
    "        min_pts = min(pts, min_pts)\n",
    "#         max_pts = max(pts, max_pts)\n",
    "        \n",
    "angles = np.array(angles)\n",
    "offsets = np.array(conf[\"offsets\"])\n",
    "traces = np.stack([t[:, (t.shape[1] - min_pts):] for t in traces], axis=0)\n",
    "n_angles, n_offsets, n_pts = traces.shape\n",
    "\n",
    "print(\"\\nData\")\n",
    "print(\"-------------\")\n",
    "print(\"angles:\", angles, \"\\n\")\n",
    "print(\"offsets:\", offsets, \"\\n\")\n",
    "print(\"traces shape (angles, offsets, pts):\", traces.shape)"
   ]
  },
  {
   "cell_type": "code",
   "execution_count": null,
   "id": "62e917bc",
   "metadata": {},
   "outputs": [],
   "source": []
  }
 ],
 "metadata": {
  "hide_input": false,
  "kernelspec": {
   "display_name": "Python 3 (ipykernel)",
   "language": "python",
   "name": "python3"
  },
  "language_info": {
   "codemirror_mode": {
    "name": "ipython",
    "version": 3
   },
   "file_extension": ".py",
   "mimetype": "text/x-python",
   "name": "python",
   "nbconvert_exporter": "python",
   "pygments_lexer": "ipython3",
   "version": "3.9.5"
  }
 },
 "nbformat": 4,
 "nbformat_minor": 5
}
