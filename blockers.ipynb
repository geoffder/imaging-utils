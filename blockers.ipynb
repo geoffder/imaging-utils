{
 "cells": [
  {
   "cell_type": "code",
   "execution_count": 1,
   "id": "violent-james",
   "metadata": {},
   "outputs": [],
   "source": [
    "import os\n",
    "import re\n",
    "import shutil\n",
    "import sys\n",
    "from datetime import date\n",
    "\n",
    "import numpy as np\n",
    "import matplotlib.pyplot as plt\n",
    "\n",
    "from skimage import io\n",
    "from PIL import Image\n",
    "from skimage import measure\n",
    "from tifffile import imsave\n",
    "\n",
    "# local imports\n",
    "from image_arrays import *\n",
    "from s2p_packer import unpack_hdf\n",
    "import preprocess as pp"
   ]
  },
  {
   "cell_type": "markdown",
   "id": "enhanced-calculation",
   "metadata": {},
   "source": [
    "### Activate interactive plotting\n",
    "By default, inline plots are static. Here we specify one of two options (comment out the undesired command) that will open plots with GUI controls for us.\n",
    "- **qt ->** figures opened in windows outside the notebook\n",
    "- **notebook ->** figures within notebook underneath generating cell."
   ]
  },
  {
   "cell_type": "code",
   "execution_count": 2,
   "id": "graduate-screw",
   "metadata": {},
   "outputs": [],
   "source": [
    "# %matplotlib qt \n",
    "%matplotlib notebook"
   ]
  },
  {
   "cell_type": "code",
   "execution_count": 3,
   "id": "identical-scale",
   "metadata": {},
   "outputs": [],
   "source": [
    "# base_path = \"/mnt/Data/prerna_velocity/2021_09_29/\"\n",
    "base_path = \"/mnt/Data/prerna_velocity/2021_09_29_processed_4x4/\"\n",
    "control_fname = base_path + \"scan2_DD_control_200um_20210929.tif\"\n",
    "blockers_fname = base_path + \"scan2_DD_blockers_200um_20210929.tif\"\n",
    "\n",
    "control = io.imread(os.path.join(base_path, control_fname))\n",
    "blockers = io.imread(os.path.join(base_path, blockers_fname))\n",
    "stacked = np.concatenate([control, blockers], axis=0)\n",
    "\n",
    "imsave(os.path.join(base_path, \"stacked.tif\"), stacked)"
   ]
  },
  {
   "cell_type": "code",
   "execution_count": 4,
   "id": "liable-preserve",
   "metadata": {},
   "outputs": [
    {
     "ename": "AttributeError",
     "evalue": "'NoneType' object has no attribute 'ndim'",
     "output_type": "error",
     "traceback": [
      "\u001b[0;31m---------------------------------------------------------------------------\u001b[0m",
      "\u001b[0;31mAttributeError\u001b[0m                            Traceback (most recent call last)",
      "\u001b[0;32m<ipython-input-4-b3fbeabb2935>\u001b[0m in \u001b[0;36m<module>\u001b[0;34m\u001b[0m\n\u001b[0;32m----> 1\u001b[0;31m movie_plot = StackExplorer(\n\u001b[0m\u001b[1;32m      2\u001b[0m     \u001b[0mstack\u001b[0m\u001b[0;34m,\u001b[0m\u001b[0;34m\u001b[0m\u001b[0;34m\u001b[0m\u001b[0m\n\u001b[1;32m      3\u001b[0m \u001b[0;31m#     zaxis=recs_xaxis,\u001b[0m\u001b[0;34m\u001b[0m\u001b[0;34m\u001b[0m\u001b[0;34m\u001b[0m\u001b[0m\n\u001b[1;32m      4\u001b[0m     \u001b[0mdelta\u001b[0m\u001b[0;34m=\u001b[0m\u001b[0;36m1\u001b[0m\u001b[0;34m,\u001b[0m\u001b[0;34m\u001b[0m\u001b[0;34m\u001b[0m\u001b[0m\n\u001b[1;32m      5\u001b[0m     \u001b[0mroi_sz\u001b[0m\u001b[0;34m=\u001b[0m\u001b[0;36m20\u001b[0m\u001b[0;34m,\u001b[0m\u001b[0;34m\u001b[0m\u001b[0;34m\u001b[0m\u001b[0m\n",
      "\u001b[0;32m~/GitRepos/imaging-utils/image_arrays.py\u001b[0m in \u001b[0;36m__init__\u001b[0;34m(self, stack, zaxis, delta, roi_sz, vmin, vmax, cmap, n_fmt_fun, trial_fmt_fun, **plot_kwargs)\u001b[0m\n\u001b[1;32m    202\u001b[0m         \u001b[0;34m**\u001b[0m\u001b[0mplot_kwargs\u001b[0m\u001b[0;34m\u001b[0m\u001b[0;34m\u001b[0m\u001b[0m\n\u001b[1;32m    203\u001b[0m     ):\n\u001b[0;32m--> 204\u001b[0;31m         \u001b[0;32mif\u001b[0m \u001b[0mstack\u001b[0m\u001b[0;34m.\u001b[0m\u001b[0mndim\u001b[0m \u001b[0;34m>\u001b[0m \u001b[0;36m3\u001b[0m\u001b[0;34m:\u001b[0m\u001b[0;34m\u001b[0m\u001b[0;34m\u001b[0m\u001b[0m\n\u001b[0m\u001b[1;32m    205\u001b[0m             \u001b[0;32mif\u001b[0m \u001b[0mstack\u001b[0m\u001b[0;34m.\u001b[0m\u001b[0mndim\u001b[0m \u001b[0;34m==\u001b[0m \u001b[0;36m5\u001b[0m \u001b[0;32mand\u001b[0m \u001b[0mstack\u001b[0m\u001b[0;34m.\u001b[0m\u001b[0mshape\u001b[0m\u001b[0;34m[\u001b[0m\u001b[0;36m0\u001b[0m\u001b[0;34m]\u001b[0m \u001b[0;34m>\u001b[0m \u001b[0;36m1\u001b[0m\u001b[0;34m:\u001b[0m\u001b[0;34m\u001b[0m\u001b[0;34m\u001b[0m\u001b[0m\n\u001b[1;32m    206\u001b[0m                 \u001b[0mself\u001b[0m\u001b[0;34m.\u001b[0m\u001b[0mns\u001b[0m \u001b[0;34m=\u001b[0m \u001b[0;32mTrue\u001b[0m\u001b[0;34m\u001b[0m\u001b[0;34m\u001b[0m\u001b[0m\n",
      "\u001b[0;31mAttributeError\u001b[0m: 'NoneType' object has no attribute 'ndim'"
     ]
    }
   ],
   "source": [
    "movie_plot = StackExplorer(\n",
    "    stacked,\n",
    "#     zaxis=recs_xaxis,\n",
    "    delta=1,\n",
    "    roi_sz=6,\n",
    "    vmin=0,\n",
    "    figsize=(6, 8)\n",
    ")\n",
    "movie_plot.ax[1].set_xlabel(\"Time (s)\")\n",
    "movie_plot.ax[1].set_ylabel(\"Pixel Value\")\n",
    "\n",
    "print(\"Movie shape:\", stacked.shape)\n",
    "movie_plot.fig.show()"
   ]
  },
  {
   "cell_type": "markdown",
   "id": "varying-sample",
   "metadata": {},
   "source": [
    "TODO:\n",
    "- 2d projection of first half and second to make sure the topography is similar in both conditions (no major movement)\n",
    "- compare variance with mean value (does variance go with elevated baselines?)\n",
    "- try QSE after subtracting the variance of blocker stack from the control\n",
    "- still need to try generated glusnfr quanta release variance with rates generated from different QSEs (get an estimate of QSE based on the variance of the sustained phase of poisson quantal sums)"
   ]
  },
  {
   "cell_type": "code",
   "execution_count": null,
   "id": "split-enforcement",
   "metadata": {},
   "outputs": [],
   "source": []
  }
 ],
 "metadata": {
  "hide_input": false,
  "kernelspec": {
   "display_name": "Python 3",
   "language": "python",
   "name": "python3"
  },
  "language_info": {
   "codemirror_mode": {
    "name": "ipython",
    "version": 3
   },
   "file_extension": ".py",
   "mimetype": "text/x-python",
   "name": "python",
   "nbconvert_exporter": "python",
   "pygments_lexer": "ipython3",
   "version": "3.7.9"
  },
  "toc": {
   "base_numbering": 1,
   "nav_menu": {},
   "number_sections": true,
   "sideBar": true,
   "skip_h1_title": false,
   "title_cell": "Table of Contents",
   "title_sidebar": "Contents",
   "toc_cell": false,
   "toc_position": {},
   "toc_section_display": true,
   "toc_window_display": false
  }
 },
 "nbformat": 4,
 "nbformat_minor": 5
}
